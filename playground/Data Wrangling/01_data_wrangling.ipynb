{
 "cells": [
  {
   "cell_type": "markdown",
   "id": "59915bd1-1234-488b-b822-87d7ef687b15",
   "metadata": {},
   "source": [
    "## Deletion of the first 30 lines of each text file"
   ]
  },
  {
   "cell_type": "code",
   "execution_count": null,
   "id": "ffe75a52-b2cf-4778-b9e7-4ced861f4ea8",
   "metadata": {},
   "outputs": [],
   "source": [
    "# 1) Copy this Jupyter Notebook file into the unzipped folder with the data.\n",
    "# 2) Remove the stations.txt file from the folder\n",
    "\n",
    "import os\n",
    "import chardet\n",
    "\n",
    "# Set the path to the current working directory\n",
    "path = os.getcwd()\n",
    "\n",
    "# Get the list of .txt files in the directory\n",
    "files = [f for f in os.listdir(path) if f.endswith('.txt')]\n",
    "\n",
    "# Loop through each file and delete the first 30 rows\n",
    "for file in files:\n",
    "    # Open the file and detect its encoding\n",
    "    with open(os.path.join(path, file), 'rb') as f:\n",
    "        result = chardet.detect(f.read())\n",
    "        encoding = result['encoding']\n",
    "    \n",
    "    # Read the file contents using the detected encoding\n",
    "    with open(os.path.join(path, file), encoding=encoding) as f:\n",
    "        lines = f.readlines()\n",
    "    \n",
    "    # Write the remaining lines back to the file\n",
    "    with open(os.path.join(path, file), 'w', encoding=encoding) as f:\n",
    "        f.writelines(lines[30:])"
   ]
  },
  {
   "cell_type": "markdown",
   "id": "e73c68c7-9d42-4416-84c3-44b7cee35a6e",
   "metadata": {},
   "source": [
    "## Combination of all text files into a single one"
   ]
  },
  {
   "cell_type": "code",
   "execution_count": 2,
   "id": "07cfd49c-2470-4f09-a277-da19cc7c1370",
   "metadata": {},
   "outputs": [],
   "source": [
    "import os\n",
    "\n",
    "# Set the path to the current working directory\n",
    "path = os.getcwd()\n",
    "\n",
    "# Get the list of .txt files in the directory\n",
    "files = [f for f in os.listdir(path) if f.endswith('.txt')]\n",
    "\n",
    "# Open a new file to write the combined contents\n",
    "with open(os.path.join(path, 'combined.txt'), 'w') as combined_file:\n",
    "    # Loop through each file and write its contents to the combined file\n",
    "    for file in files:\n",
    "        # Open the file and read its contents\n",
    "        with open(os.path.join(path, file), 'r') as f:\n",
    "            file_contents = f.read()\n",
    "        \n",
    "        # Write the file contents to the combined file\n",
    "        combined_file.write(file_contents)\n"
   ]
  }
 ],
 "metadata": {
  "kernelspec": {
   "display_name": "Python 3 (ipykernel)",
   "language": "python",
   "name": "python3"
  },
  "language_info": {
   "codemirror_mode": {
    "name": "ipython",
    "version": 3
   },
   "file_extension": ".py",
   "mimetype": "text/x-python",
   "name": "python",
   "nbconvert_exporter": "python",
   "pygments_lexer": "ipython3",
   "version": "3.9.12"
  }
 },
 "nbformat": 4,
 "nbformat_minor": 5
}
